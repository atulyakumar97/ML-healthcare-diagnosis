{
 "cells": [
  {
   "cell_type": "markdown",
   "metadata": {
    "_uuid": "94b4605e05a89d3a06778dfecfbd894a835341ee"
   },
   "source": [
    "# Malaria Detection\n",
    "\n",
    "Malaria is a life-threatening disease caused by parasites that are transmitted to people through the bites of infected female Anopheles mosquitoes. It is preventable and curable.\n",
    "* In 2017, there were an estimated 219 million cases of malaria in 90 countries.\n",
    "* Malaria deaths reached 435 000 in 2017.\n",
    "* The WHO African Region carries a disproportionately high share of the global malaria burden. In 2017, the region was home to 92% of malaria cases and 93% of malaria deaths.\n",
    "\n",
    "Malaria is caused by Plasmodium parasites. The parasites are spread to people through the bites of infected female Anopheles mosquitoes, called \"malaria vectors.\" There are 5 parasite species that cause malaria in humans, and 2 of these species – P. falciparum and P. vivax – pose the greatest threat.\n",
    "\n",
    "\n",
    "***Diagnosis of malaria can be difficult***:\n",
    "\n",
    "* Where malaria is not endemic any more (such as in the United States), health-care providers may not be familiar with the disease. Clinicians seeing a malaria patient may forget to consider malaria among the potential diagnoses and not order the needed diagnostic tests. Laboratorians may lack experience with malaria and fail to detect parasites when examining blood smears under the microscope.\n",
    "* Malaria is an acute febrile illness. In a non-immune individual, symptoms usually appear 10–15 days after the infective mosquito bite. The first symptoms – fever, headache, and chills – may be mild and difficult to recognize as malaria. If not treated within 24 hours, P. falciparum malaria can progress to severe illness, often leading to death.\n",
    "\n",
    "***Microscopic Diagnosis***\n",
    "\n",
    "Malaria parasites can be identified by examining under the microscope a drop of the patient’s blood, spread out as a “blood smear” on a microscope slide. Prior to examination, the specimen is stained  to give the parasites a distinctive appearance. This technique remains the gold standard for laboratory confirmation of malaria. However, it depends on the quality of the reagents, of the microscope, and on the experience of the laboratorian.\n",
    "\n",
    "![malaria](https://cdn1.sph.harvard.edu/wp-content/uploads/2015/03/Malaria-cells_CDC.jpg)\n",
    "\n",
    "references :\n",
    "* [1] https://www.who.int/news-room/fact-sheets/detail/malaria \n",
    "* [2] https://www.cdc.gov/malaria/diagnosis_treatment/diagnosis.html \n"
   ]
  },
  {
   "cell_type": "code",
   "execution_count": 1,
   "metadata": {
    "_uuid": "a673b6e72f7d6357035fe757d865b4e35e7d37cc"
   },
   "outputs": [],
   "source": [
    "%reload_ext autoreload\n",
    "%autoreload 2\n",
    "%matplotlib inline"
   ]
  },
  {
   "cell_type": "code",
   "execution_count": null,
   "metadata": {
    "_cell_guid": "b1076dfc-b9ad-4769-8c92-a6c4dae69d19",
    "_uuid": "8f2839f25d086af736a60e9eeb907d3b93b6e0e5"
   },
   "outputs": [],
   "source": [
    "import numpy as np\n",
    "import pandas as pd\n",
    "import matplotlib.pyplot as plt\n",
    "\n",
    "from fastai import *\n",
    "from fastai.vision import *\n",
    "from fastai.callbacks.hooks import *\n",
    "\n",
    "import os\n",
    "print(os.listdir(\"../input/cell_images/cell_images/\"))"
   ]
  },
  {
   "cell_type": "markdown",
   "metadata": {
    "_uuid": "693a80046f72af973f371188ef4f5f68337c5e45"
   },
   "source": [
    "## Dataset"
   ]
  },
  {
   "cell_type": "code",
   "execution_count": 4,
   "metadata": {
    "_uuid": "86969405320d0d0cfce4634d61559f8e513fd1f8"
   },
   "outputs": [],
   "source": [
    "img_dir='C:\\\\Users\\\\Atulya\\\\Documents\\\\GitHub\\\\ML-healthcare-diagnosis\\\\Malaria using Cell Images\\\\cell_images'"
   ]
  },
  {
   "cell_type": "code",
   "execution_count": 5,
   "metadata": {
    "_uuid": "5fb06be4bf9e7a552dd652a675526c88ba6d366b"
   },
   "outputs": [
    {
     "ename": "NameError",
     "evalue": "name 'Path' is not defined",
     "output_type": "error",
     "traceback": [
      "\u001b[1;31m---------------------------------------------------------------------------\u001b[0m",
      "\u001b[1;31mNameError\u001b[0m                                 Traceback (most recent call last)",
      "\u001b[1;32m<ipython-input-5-ff1cd00f7096>\u001b[0m in \u001b[0;36m<module>\u001b[1;34m\u001b[0m\n\u001b[1;32m----> 1\u001b[1;33m \u001b[0mpath\u001b[0m\u001b[1;33m=\u001b[0m\u001b[0mPath\u001b[0m\u001b[1;33m(\u001b[0m\u001b[0mimg_dir\u001b[0m\u001b[1;33m)\u001b[0m\u001b[1;33m\u001b[0m\u001b[1;33m\u001b[0m\u001b[0m\n\u001b[0m\u001b[0;32m      2\u001b[0m \u001b[0mpath\u001b[0m\u001b[1;33m\u001b[0m\u001b[1;33m\u001b[0m\u001b[0m\n",
      "\u001b[1;31mNameError\u001b[0m: name 'Path' is not defined"
     ]
    }
   ],
   "source": [
    "path=Path(img_dir)\n",
    "path"
   ]
  },
  {
   "cell_type": "code",
   "execution_count": null,
   "metadata": {
    "_uuid": "dc60646595963ce3147a8c5ad5f537808b9e8e37"
   },
   "outputs": [],
   "source": [
    "data = ImageDataBunch.from_folder(path, train=\".\", \n",
    "                                  valid_pct=0.2,\n",
    "                                  ds_tfms=get_transforms(flip_vert=True, max_warp=0),\n",
    "                                  size=224,bs=64, \n",
    "                                  num_workers=0).normalize(imagenet_stats)"
   ]
  },
  {
   "cell_type": "code",
   "execution_count": null,
   "metadata": {
    "_uuid": "bb6429da7a46dd33738f586429aeea410646590b"
   },
   "outputs": [],
   "source": [
    "print(f'Classes: \\n {data.classes}')"
   ]
  },
  {
   "cell_type": "code",
   "execution_count": null,
   "metadata": {
    "_uuid": "d71fa1b4701d87e9bd3227499619eebcabaaee21"
   },
   "outputs": [],
   "source": [
    "data.show_batch(rows=3, figsize=(7,6))"
   ]
  },
  {
   "cell_type": "markdown",
   "metadata": {
    "_uuid": "84d059588de5f03210855f2c62012f02c96355f7"
   },
   "source": [
    "## Model ResNet34"
   ]
  },
  {
   "cell_type": "code",
   "execution_count": null,
   "metadata": {
    "_uuid": "43592a27e6723f9846e60bd1cf7e6442fb61e81a",
    "scrolled": true
   },
   "outputs": [],
   "source": [
    "learn = create_cnn(data, models.resnet34, metrics=accuracy, model_dir=\"/tmp/model/\")\n"
   ]
  },
  {
   "cell_type": "code",
   "execution_count": null,
   "metadata": {
    "_uuid": "a6649e1041a0f164327724a1eff858bdd2919637"
   },
   "outputs": [],
   "source": [
    "learn.lr_find()\n",
    "learn.recorder.plot()"
   ]
  },
  {
   "cell_type": "code",
   "execution_count": null,
   "metadata": {
    "_uuid": "d64d77afc27d0eb77193d17a4b5c31b1eca9a118"
   },
   "outputs": [],
   "source": [
    "learn.fit_one_cycle(6,1e-2)"
   ]
  },
  {
   "cell_type": "code",
   "execution_count": null,
   "metadata": {
    "_uuid": "100bcd4780245469cd697d9f26221b63e6546daf"
   },
   "outputs": [],
   "source": [
    "learn.save('stage-1')"
   ]
  },
  {
   "cell_type": "code",
   "execution_count": null,
   "metadata": {
    "_uuid": "11f8bf45d35fb775882a70c3fae5e1ddae062d59"
   },
   "outputs": [],
   "source": [
    "learn.unfreeze()"
   ]
  },
  {
   "cell_type": "code",
   "execution_count": null,
   "metadata": {
    "_uuid": "c2aa30c95d52aba20e86a2247ab02a64f956e9ed"
   },
   "outputs": [],
   "source": [
    "learn.lr_find()\n",
    "learn.recorder.plot()"
   ]
  },
  {
   "cell_type": "code",
   "execution_count": null,
   "metadata": {
    "_uuid": "c170423b370a072d62fe0ba36736aca1d903526a"
   },
   "outputs": [],
   "source": [
    "learn.fit_one_cycle(4, max_lr=slice(5e-6,5e-5 ))"
   ]
  },
  {
   "cell_type": "code",
   "execution_count": null,
   "metadata": {
    "_uuid": "f403c61738b47968c4c25cc7173788c7c27f7231"
   },
   "outputs": [],
   "source": [
    "learn.save('stage-2')"
   ]
  },
  {
   "cell_type": "code",
   "execution_count": null,
   "metadata": {
    "_uuid": "16a8f88e17577e3742e6248d043ffd5524b75792"
   },
   "outputs": [],
   "source": [
    "learn.recorder.plot_losses()"
   ]
  },
  {
   "cell_type": "code",
   "execution_count": null,
   "metadata": {
    "_uuid": "6dc7b25858a7e0051c133bfe07c7ff52915eabd2"
   },
   "outputs": [],
   "source": [
    "interp = ClassificationInterpretation.from_learner(learn)"
   ]
  },
  {
   "cell_type": "code",
   "execution_count": null,
   "metadata": {
    "_uuid": "0116cdd070511251c2282de01c9dad009a28573c"
   },
   "outputs": [],
   "source": [
    "interp.plot_top_losses(9, figsize=(15,11))"
   ]
  },
  {
   "cell_type": "markdown",
   "metadata": {
    "_uuid": "0f2bd331893e3a2eec9e7bb707bdf2468fb32789"
   },
   "source": [
    "## Confusion Matrix"
   ]
  },
  {
   "cell_type": "code",
   "execution_count": null,
   "metadata": {
    "_uuid": "0a6fe6a1fc8f67ab07d0de5d6ec9a872523f714b"
   },
   "outputs": [],
   "source": [
    "interp.plot_confusion_matrix(figsize=(8,8), dpi=60)"
   ]
  },
  {
   "cell_type": "code",
   "execution_count": null,
   "metadata": {
    "_uuid": "c8d4ed2d908f4958a66c9319aad0a09f70f1472e"
   },
   "outputs": [],
   "source": [
    "interp.most_confused(min_val=2)"
   ]
  },
  {
   "cell_type": "markdown",
   "metadata": {
    "_uuid": "9a4441d82a963d9986d502723821438a2bd03825"
   },
   "source": [
    "## Inference"
   ]
  },
  {
   "cell_type": "code",
   "execution_count": null,
   "metadata": {
    "_uuid": "29bd7594a621ad8b2b463f233ee173abc89dd2f3"
   },
   "outputs": [],
   "source": [
    "pred_data= ImageDataBunch.from_folder(path, train=\".\", \n",
    "                                  valid_pct=0.2,\n",
    "                                  ds_tfms=get_transforms(flip_vert=True, max_warp=0),\n",
    "                                  size=224,bs=64, \n",
    "                                  num_workers=0).normalize(imagenet_stats)"
   ]
  },
  {
   "cell_type": "code",
   "execution_count": null,
   "metadata": {
    "_uuid": "687f541a5d0853e297be31bc7219a7261fd05b8f"
   },
   "outputs": [],
   "source": [
    "predictor=create_cnn(data, models.resnet34, metrics=accuracy, model_dir=\"/tmp/model/\").load('stage-2')"
   ]
  },
  {
   "cell_type": "code",
   "execution_count": null,
   "metadata": {
    "_uuid": "f2616f55f8ed06fb739ab64759d31b3ebef2f9c8",
    "collapsed": true
   },
   "outputs": [],
   "source": [
    "pred_data.single_from_classes(path, pred_data.classes)"
   ]
  },
  {
   "cell_type": "code",
   "execution_count": null,
   "metadata": {
    "_uuid": "603e0aba87dba20d8d436dd0c52729e95a977f7b"
   },
   "outputs": [],
   "source": [
    "x,y = data.valid_ds[3]\n",
    "x.show()\n",
    "data.valid_ds.y[3]"
   ]
  },
  {
   "cell_type": "code",
   "execution_count": null,
   "metadata": {
    "_uuid": "57627c6cfe1e2a3a7c5c2528832c4c5968c1f166"
   },
   "outputs": [],
   "source": [
    "pred_class,pred_idx,outputs = predictor.predict(x)\n",
    "pred_class"
   ]
  },
  {
   "cell_type": "markdown",
   "metadata": {
    "_uuid": "154899ede1031231f041bf661fed69e511fa1a74"
   },
   "source": [
    "## Heatmap\n",
    "The heatmap will help us identify were our model it's looking and it's really useful for decision making"
   ]
  },
  {
   "cell_type": "code",
   "execution_count": null,
   "metadata": {
    "_uuid": "a088cdccc8d7aa54c2e28f66342c3c5586b8e2b7"
   },
   "outputs": [],
   "source": [
    "def heatMap(x,y,data, learner, size=(0,224,224,0)):\n",
    "    \"\"\"HeatMap\"\"\"\n",
    "    \n",
    "    # Evaluation mode\n",
    "    m=learner.model.eval()\n",
    "    \n",
    "    # Denormalize the image\n",
    "    xb,_ = data.one_item(x)\n",
    "    xb_im = Image(data.denorm(xb)[0])\n",
    "    xb = xb.cuda()\n",
    "    \n",
    "    # hook the activations\n",
    "    with hook_output(m[0]) as hook_a: \n",
    "        with hook_output(m[0], grad=True) as hook_g:\n",
    "            preds = m(xb)\n",
    "            preds[0,int(y)].backward()\n",
    "\n",
    "    # Activations    \n",
    "    acts=hook_a.stored[0].cpu()\n",
    "    \n",
    "    # Avg of the activations\n",
    "    avg_acts=acts.mean(0)\n",
    "    \n",
    "    # Show HeatMap\n",
    "    _,ax = plt.subplots()\n",
    "    xb_im.show(ax)\n",
    "    ax.imshow(avg_acts, alpha=0.5, extent=size,\n",
    "              interpolation='bilinear', cmap='magma')\n",
    "    "
   ]
  },
  {
   "cell_type": "code",
   "execution_count": null,
   "metadata": {
    "_uuid": "a68cb1f97599522ddfd1daab99a19b2a7feb55f5"
   },
   "outputs": [],
   "source": [
    "heatMap(x,y,pred_data,learn)"
   ]
  },
  {
   "cell_type": "code",
   "execution_count": null,
   "metadata": {
    "_uuid": "f270038f25daea75fc74b8ddd17d7c57897d7798"
   },
   "outputs": [],
   "source": []
  }
 ],
 "metadata": {
  "kernelspec": {
   "display_name": "Python 3",
   "language": "python",
   "name": "python3"
  },
  "language_info": {
   "codemirror_mode": {
    "name": "ipython",
    "version": 3
   },
   "file_extension": ".py",
   "mimetype": "text/x-python",
   "name": "python",
   "nbconvert_exporter": "python",
   "pygments_lexer": "ipython3",
   "version": "3.6.8"
  }
 },
 "nbformat": 4,
 "nbformat_minor": 1
}
